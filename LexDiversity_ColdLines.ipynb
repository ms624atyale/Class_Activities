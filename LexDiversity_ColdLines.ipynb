{
  "nbformat": 4,
  "nbformat_minor": 0,
  "metadata": {
    "colab": {
      "name": "Untitled7.ipynb",
      "provenance": [],
      "authorship_tag": "ABX9TyPMqfGwozBv6uh6sefF0l88",
      "include_colab_link": true
    },
    "kernelspec": {
      "name": "python3",
      "display_name": "Python 3"
    },
    "language_info": {
      "name": "python"
    }
  },
  "cells": [
    {
      "cell_type": "markdown",
      "metadata": {
        "id": "view-in-github",
        "colab_type": "text"
      },
      "source": [
        "<a href=\"https://colab.research.google.com/github/ms624atyale/Class_Activities/blob/main/LexDiversity_ColdLines.ipynb\" target=\"_parent\"><img src=\"https://colab.research.google.com/assets/colab-badge.svg\" alt=\"Open In Colab\"/></a>"
      ]
    },
    {
      "cell_type": "code",
      "execution_count": 1,
      "metadata": {
        "colab": {
          "base_uri": "https://localhost:8080/"
        },
        "id": "S_N-a8HGEK0N",
        "outputId": "46220404-8447-426b-bec6-4b9939268591"
      },
      "outputs": [
        {
          "output_type": "stream",
          "name": "stdout",
          "text": [
            "Collecting lexical-diversity\n",
            "  Downloading lexical_diversity-0.1.1-py3-none-any.whl (117 kB)\n",
            "\u001b[K     |████████████████████████████████| 117 kB 4.0 MB/s \n",
            "\u001b[?25hInstalling collected packages: lexical-diversity\n",
            "Successfully installed lexical-diversity-0.1.1\n"
          ]
        }
      ],
      "source": [
        "pip install lexical-diversity"
      ]
    },
    {
      "cell_type": "code",
      "source": [
        "from lexical_diversity import lex_div as ld"
      ],
      "metadata": {
        "id": "ykBXrVUgEdrs"
      },
      "execution_count": 2,
      "outputs": []
    },
    {
      "cell_type": "code",
      "source": [
        "text = \"\"\"The state was named for the Colorado River, which Spanish travelers named the Río Colorado for the ruddy silt the river carried from the mountains. The Territory of Colorado was organized on February 28, 1861, and on August 1, 1876, U.S. President Ulysses S. Grant signed Proclamation 230 admitting Colorado to the Union as the 38th state. Colorado is nicknamed the \"Centennial State\" because it became a state a century after the signing of the United States Declaration of Independence. Colorado is bordered by Wyoming to the north, Nebraska to the northeast, Kansas to the east, Oklahoma to the southeast, New Mexico to the south, Utah to the west, and touches Arizona to the southwest at the Four Corners. Colorado is noted for its vivid landscape of mountains, forests, high plains, mesas, canyons, plateaus, rivers, and desert lands. Colorado is part of the western or southwestern United States, and one of the Mountain States. Denver is the capital and most populous city of Colorado. Residents of the state are known as Coloradans, although the antiquated term \"Coloradoan\" is occasionally used.\"\"\"\n"
      ],
      "metadata": {
        "id": "cOkg0p5KEf_f"
      },
      "execution_count": 3,
      "outputs": []
    },
    {
      "cell_type": "code",
      "source": [
        "tok = ld.tokenize(text)"
      ],
      "metadata": {
        "id": "vOTNw8ReEjbb"
      },
      "execution_count": 4,
      "outputs": []
    },
    {
      "cell_type": "code",
      "source": [
        "print(tok[:10])"
      ],
      "metadata": {
        "colab": {
          "base_uri": "https://localhost:8080/"
        },
        "id": "kuD73-D5El9p",
        "outputId": "875045c2-efc4-47ad-ea53-75a7fba161bf"
      },
      "execution_count": 5,
      "outputs": [
        {
          "output_type": "stream",
          "name": "stdout",
          "text": [
            "['the', 'state', 'was', 'named', 'for', 'the', 'colorado', 'river', 'which', 'spanish']\n"
          ]
        }
      ]
    },
    {
      "cell_type": "code",
      "source": [
        "print(tok)"
      ],
      "metadata": {
        "colab": {
          "base_uri": "https://localhost:8080/"
        },
        "id": "rE3pxB75E1BA",
        "outputId": "f980b58b-93ae-4cd5-a07d-66c2d8ed8f8a"
      },
      "execution_count": 8,
      "outputs": [
        {
          "output_type": "stream",
          "name": "stdout",
          "text": [
            "['the', 'state', 'was', 'named', 'for', 'the', 'colorado', 'river', 'which', 'spanish', 'travelers', 'named', 'the', 'río', 'colorado', 'for', 'the', 'ruddy', 'silt', 'the', 'river', 'carried', 'from', 'the', 'mountains', 'the', 'territory', 'of', 'colorado', 'was', 'organized', 'on', 'february', '28', '1861', 'and', 'on', 'august', '1', '1876', 'us', 'president', 'ulysses', 's', 'grant', 'signed', 'proclamation', '230', 'admitting', 'colorado', 'to', 'the', 'union', 'as', 'the', '38th', 'state', 'colorado', 'is', 'nicknamed', 'the', '\"centennial', 'state\"', 'because', 'it', 'became', 'a', 'state', 'a', 'century', 'after', 'the', 'signing', 'of', 'the', 'united', 'states', 'declaration', 'of', 'independence', 'colorado', 'is', 'bordered', 'by', 'wyoming', 'to', 'the', 'north', 'nebraska', 'to', 'the', 'northeast', 'kansas', 'to', 'the', 'east', 'oklahoma', 'to', 'the', 'southeast', 'new', 'mexico', 'to', 'the', 'south', 'utah', 'to', 'the', 'west', 'and', 'touches', 'arizona', 'to', 'the', 'southwest', 'at', 'the', 'four', 'corners', 'colorado', 'is', 'noted', 'for', 'its', 'vivid', 'landscape', 'of', 'mountains', 'forests', 'high', 'plains', 'mesas', 'canyons', 'plateaus', 'rivers', 'and', 'desert', 'lands', 'colorado', 'is', 'part', 'of', 'the', 'western', 'or', 'southwestern', 'united', 'states', 'and', 'one', 'of', 'the', 'mountain', 'states', 'denver', 'is', 'the', 'capital', 'and', 'most', 'populous', 'city', 'of', 'colorado', 'residents', 'of', 'the', 'state', 'are', 'known', 'as', 'coloradans', 'although', 'the', 'antiquated', 'term', '\"coloradoan\"', 'is', 'occasionally', 'used']\n"
          ]
        }
      ]
    },
    {
      "cell_type": "code",
      "source": [
        "flt = ld.flemmatize(text)"
      ],
      "metadata": {
        "id": "oRGMFPKvEoir"
      },
      "execution_count": 6,
      "outputs": []
    },
    {
      "cell_type": "code",
      "source": [
        "print(ld.ttr(flt))"
      ],
      "metadata": {
        "colab": {
          "base_uri": "https://localhost:8080/"
        },
        "id": "asOY0A47Eqw3",
        "outputId": "b4d81606-c10f-45b0-9f72-d702748c45e0"
      },
      "execution_count": 7,
      "outputs": [
        {
          "output_type": "stream",
          "name": "stdout",
          "text": [
            "0.5777777777777777\n"
          ]
        }
      ]
    }
  ]
}