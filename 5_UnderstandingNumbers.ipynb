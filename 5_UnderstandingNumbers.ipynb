{
  "nbformat": 4,
  "nbformat_minor": 0,
  "metadata": {
    "colab": {
      "provenance": [],
      "authorship_tag": "ABX9TyM+1VCJ8h4kB+r2hLrDdTfX",
      "include_colab_link": true
    },
    "kernelspec": {
      "name": "python3",
      "display_name": "Python 3"
    },
    "language_info": {
      "name": "python"
    }
  },
  "cells": [
    {
      "cell_type": "markdown",
      "metadata": {
        "id": "view-in-github",
        "colab_type": "text"
      },
      "source": [
        "<a href=\"https://colab.research.google.com/github/ms624atyale/Class_Activities/blob/main/5_UnderstandingNumbers.ipynb\" target=\"_parent\"><img src=\"https://colab.research.google.com/assets/colab-badge.svg\" alt=\"Open In Colab\"/></a>"
      ]
    },
    {
      "cell_type": "markdown",
      "source": [
        "## integer 정수 (10진수), binary (2진수), octal (8진수), hexadecimal (16진수)\n",
        "\n",
        "- Useful information:\n",
        "\n",
        "  i) 일반적으로 컴퓨터에 기록되는 데이터의 최소 단위는 8비트 또는 1비트이다. 1 비트는 한자리 2 진수이기 때문에 8비트는 8자리 2진수로 표현된다.\n",
        "\n",
        "  ii) 8진수는 3자리 2진수로 표현 가능\n",
        "\n",
        "  iii) 16진수는 4자리 2진수로 표현 가능\n",
        "\n",
        "      따라서 1비트 데이터는 두자리 16진수로 표현 가능하기 때문에 컴퓨터에 기록된 대부분의 데이터는 16진수로 표현이 가능하다????????\n"
      ],
      "metadata": {
        "id": "_jr4IKsJVo8n"
      }
    },
    {
      "cell_type": "markdown",
      "source": [
        "## ✅ 실수형 상수 자료\n",
        "- 유리수: 소수로 나타낼 수 있는 수\n",
        "- 무리수: 원주율이나 root2 와 가은 소수로 표현할 수 없는 무리수\n",
        "- 파이썬에서 소수점으로 나타내는 상수는 실수형 상수로 간주\n",
        "      실수형 상수를 표현하는 다른 방법\n",
        "\n",
        "      - e: 10의 거듭제곱\n",
        "      e.g., e2 = 10의 2승, e-3 = 10의 -3승, 1.56e3 = 1.56X10의 3승 (=1560.0), -0.7e-4 = 7e-5\n"
      ],
      "metadata": {
        "id": "J4Q-k162Zdv7"
      }
    },
    {
      "cell_type": "code",
      "execution_count": null,
      "metadata": {
        "id": "7FtusVNzVoCB"
      },
      "outputs": [],
      "source": [
        "f1=1.0\n",
        "print(f1)\n",
        "\n",
        "f2=3.14\n",
        "print(f2)\n",
        "\n",
        "f3=1.56e3\n",
        "print(f3)\n",
        "\n",
        "f4=0.7e-4\n",
        "print(f4)"
      ]
    },
    {
      "cell_type": "markdown",
      "source": [
        "## ✅ 복소수형 상수 자료\n",
        "- 실수부 + 허수부 (j)\n",
        "\n",
        "  - 복소수형 자료에서 실수부만 취할 때는 real\n",
        "  - 복소수형 자료에서 허수부만 취할 때는 imag\n",
        "\n",
        "        e.g., 1+7j\n",
        "\n",
        "        real  ➡️ 1.0\n",
        "        imag  ➡️ 7.0\n",
        "\n",
        "- complex()를 이용하여 복소수형 상수를 구성한다. \n",
        "\n",
        "  - complex(2,3) 에서 real실수부  ➡️ 2, imag허수부  ➡️ 3\n",
        "\n",
        "        complex(2,3)\n",
        "        2+3j\n"
      ],
      "metadata": {
        "id": "oKcqWpqVbZi1"
      }
    },
    {
      "cell_type": "code",
      "source": [
        "c1=1+7j\n",
        "print(c1.real); print(c1.imag)\n",
        "\n",
        "c2=complex(2,3)\n",
        "print(c2)"
      ],
      "metadata": {
        "id": "zUdHxKpUa5f3"
      },
      "execution_count": null,
      "outputs": []
    }
  ]
}