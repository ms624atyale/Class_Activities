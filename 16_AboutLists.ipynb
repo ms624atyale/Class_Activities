{
  "nbformat": 4,
  "nbformat_minor": 0,
  "metadata": {
    "colab": {
      "provenance": [],
      "authorship_tag": "ABX9TyO2xzrvwxEpFc3Go9DLGhCh",
      "include_colab_link": true
    },
    "kernelspec": {
      "name": "python3",
      "display_name": "Python 3"
    },
    "language_info": {
      "name": "python"
    }
  },
  "cells": [
    {
      "cell_type": "markdown",
      "metadata": {
        "id": "view-in-github",
        "colab_type": "text"
      },
      "source": [
        "<a href=\"https://colab.research.google.com/github/ms624atyale/Class_Activities/blob/main/16_AboutLists.ipynb\" target=\"_parent\"><img src=\"https://colab.research.google.com/assets/colab-badge.svg\" alt=\"Open In Colab\"/></a>"
      ]
    },
    {
      "cell_type": "markdown",
      "source": [
        "# About Lists\n",
        "\n",
        "  - p. 173, #99 분터 (as of 4/6/23)"
      ],
      "metadata": {
        "id": "Q7GO6Gl-dTwL"
      }
    },
    {
      "cell_type": "code",
      "execution_count": null,
      "metadata": {
        "id": "3tRqYpafdSex"
      },
      "outputs": [],
      "source": []
    }
  ]
}