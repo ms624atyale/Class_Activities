{
  "nbformat": 4,
  "nbformat_minor": 0,
  "metadata": {
    "colab": {
      "provenance": [],
      "authorship_tag": "ABX9TyPjajH8LwXc5NX844MeNBt+",
      "include_colab_link": true
    },
    "kernelspec": {
      "name": "python3",
      "display_name": "Python 3"
    },
    "language_info": {
      "name": "python"
    }
  },
  "cells": [
    {
      "cell_type": "markdown",
      "metadata": {
        "id": "view-in-github",
        "colab_type": "text"
      },
      "source": [
        "<a href=\"https://colab.research.google.com/github/ms624atyale/Class_Activities/blob/main/13_try.ipynb\" target=\"_parent\"><img src=\"https://colab.research.google.com/assets/colab-badge.svg\" alt=\"Open In Colab\"/></a>"
      ]
    },
    {
      "cell_type": "markdown",
      "source": [
        "## 🔨 try ~ except ~ else/finally \n",
        "---\n",
        "\n",
        "1. 프로그램을 작성 후 실행되는 동안 오류가 발생하면 프로그램은 더 이상 진행되지 않습니다. 이 상황을 예외 (exeption) 상황이라고 한다. \n",
        "\n",
        "2. try: ~ exept: \n",
        "  - Exeption 이 있더라도 프로그램 중단 없이 예외에 대하여 적절히 처리하여 프로그램을 진행시킬 수 있도록 하는 구문\n",
        "\n",
        "3. try: ~ except: ~ else:\n",
        "  - 어떤 로직을 수행했을 때 오류 상황이 아닌 경우에만 어떤 작없을 수행하는 코드를 작성해야 할 때\n",
        "  - 예외 Exception 이 발행하면 else 부분은 수행되지 않음\n",
        "\n",
        "4. try: ~ except: ~ finally:\n",
        "  - 오류 발생과 상관없이 어떤 코드를 무조건 실행 시킬 때 \n"
      ],
      "metadata": {
        "id": "3V3eF3-rqKDl"
      }
    },
    {
      "cell_type": "code",
      "execution_count": 1,
      "metadata": {
        "colab": {
          "base_uri": "https://localhost:8080/"
        },
        "id": "XKm8hYRNqJE2",
        "outputId": "7c9f5e48-b581-4363-d09d-2b4d1b2ad166"
      },
      "outputs": [
        {
          "output_type": "stream",
          "name": "stdout",
          "text": [
            "How are you?\n",
            "Exception occurred\n"
          ]
        }
      ],
      "source": [
        "# 위 #2 의 예시\n",
        "\n",
        "try: \n",
        "  print ('How are you?')\n",
        "  print (param)\n",
        "\n",
        "except: \n",
        "  print ('Exception occurred') "
      ]
    },
    {
      "cell_type": "code",
      "source": [
        "# 위 #3  (try: ~ exception: ~ else: 에서 else 부분이 실행되지 않은 예시 )\n",
        "\n",
        "try:\n",
        "  print ('How are you?')\n",
        "  print (param)\n",
        "\n",
        "except:\n",
        "  print ('Exception occurred.')\n",
        "\n",
        "else:\n",
        "  print ('Exception did not occur.')"
      ],
      "metadata": {
        "colab": {
          "base_uri": "https://localhost:8080/"
        },
        "id": "yI5O0MpmuDHE",
        "outputId": "19fb0f80-62ff-4d17-8835-46f208bc4e8d"
      },
      "execution_count": 2,
      "outputs": [
        {
          "output_type": "stream",
          "name": "stdout",
          "text": [
            "How are you?\n",
            "Exception occurred.\n"
          ]
        }
      ]
    },
    {
      "cell_type": "code",
      "source": [
        "# 위 #3  (try: ~ exception: ~ else: 에서 except 부분이 실행되지 않은 예시 )\n",
        "\n",
        "try:\n",
        "  print ('How are you?')\n",
        "#  print (param)\n",
        "\n",
        "except:\n",
        "  print ('Exception occurred.')\n",
        "\n",
        "else:\n",
        "  print ('Exception did not occur.')"
      ],
      "metadata": {
        "colab": {
          "base_uri": "https://localhost:8080/"
        },
        "id": "y46HtrZSu_s2",
        "outputId": "1dd8ecdb-0e27-4264-e1e5-2d372e72308d"
      },
      "execution_count": 3,
      "outputs": [
        {
          "output_type": "stream",
          "name": "stdout",
          "text": [
            "How are you?\n",
            "Exception did not occur.\n"
          ]
        }
      ]
    },
    {
      "cell_type": "code",
      "source": [
        "# 위 #4  (try: ~ exception: ~ finally: exeption 예외 발생의 유무에 상관없이 무조건 실행되는 finally 부분 )\n",
        "\n",
        "try:\n",
        "  print ('How are you?')\n",
        "#  print (param)\n",
        "\n",
        "except:\n",
        "  print ('Exception occurred.')\n",
        "\n",
        "finally:\n",
        "  print ('This code should be running.')"
      ],
      "metadata": {
        "colab": {
          "base_uri": "https://localhost:8080/"
        },
        "id": "k8-JM-FevYkh",
        "outputId": "aab9887e-07e3-41d3-a421-a83e210fff62"
      },
      "execution_count": 4,
      "outputs": [
        {
          "output_type": "stream",
          "name": "stdout",
          "text": [
            "How are you?\n",
            "This code should be running.\n"
          ]
        }
      ]
    },
    {
      "cell_type": "markdown",
      "source": [
        "# try: ~ except Exception as e (파이썬 200제 p. 120 (#58))\n",
        "\n",
        "# 😱"
      ],
      "metadata": {
        "id": "ziRbpYR3wpi-"
      }
    },
    {
      "cell_type": "code",
      "source": [
        "import time\n",
        "count = 1\n",
        "try:\n",
        "  while True:\n",
        "    print(count)\n",
        "    count\n",
        "    \n",
        "    count+=1\n",
        "    time.sleep(0.5)\n",
        "except KeyboardInterrupt: #PB. Ctrl + C 키가 먹히지 않았음.\n",
        "  print('The program is interrupted by the user.')"
      ],
      "metadata": {
        "id": "rETBLLcjxI_T"
      },
      "execution_count": null,
      "outputs": []
    },
    {
      "cell_type": "markdown",
      "source": [
        "KeyboardInterrupt (*args, **kwargs) 에서 나는 두 인자에 대한 직관적 이해가 없고, 또한 위의 코드라인에서 count+=1 에 대한 이해가 부족하다. (as of 27/3/23)"
      ],
      "metadata": {
        "id": "9QWBbhrZynPR"
      }
    }
  ]
}