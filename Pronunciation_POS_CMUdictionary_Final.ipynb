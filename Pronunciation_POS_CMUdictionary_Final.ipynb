{
  "nbformat": 4,
  "nbformat_minor": 0,
  "metadata": {
    "colab": {
      "name": "class03_pronunciation.ipynb",
      "provenance": [],
      "include_colab_link": true
    },
    "kernelspec": {
      "name": "python3",
      "display_name": "Python 3"
    },
    "language_info": {
      "name": "python"
    }
  },
  "cells": [
    {
      "cell_type": "markdown",
      "metadata": {
        "id": "view-in-github",
        "colab_type": "text"
      },
      "source": [
        "<a href=\"https://colab.research.google.com/github/ms624atyale/Class_Activities/blob/main/Pronunciation_POS_CMUdictionary_Final.ipynb\" target=\"_parent\"><img src=\"https://colab.research.google.com/assets/colab-badge.svg\" alt=\"Open In Colab\"/></a>"
      ]
    },
    {
      "cell_type": "markdown",
      "source": [
        "#📘 **Topic 03 Pronunciation teaching**\n",
        "\n",
        "**Table of Contents:**  \n",
        "using **{gTTS}** Text-to-Speech & CMU pronunciation dictionary.  \n",
        "\n",
        "* Exposure to Keyword pronunciation (using 📍_frequency distribution, gTTS_)\n",
        "* English rhyming (using 📍_CMU dictionary_): e.g., night, right, bite, etc.\n",
        "* Learning English vowels with rhyming words.\n",
        "\n",
        "\n",
        "* [🚫 Not Yet Available] Phontics for adult learners (using 📍_gTTS_: ): Sound letter correspondences"
      ],
      "metadata": {
        "id": "f1lUplgVnuvM"
      }
    },
    {
      "cell_type": "markdown",
      "source": [
        "💾 Sample text: [Aesop fable: The Heron](https://raw.githubusercontent.com/MK316/workshop22/main/data/TheHeron.txt) Copy and get it ready to past below :-)"
      ],
      "metadata": {
        "id": "RlifI_rHqEJM"
      }
    },
    {
      "cell_type": "code",
      "execution_count": null,
      "metadata": {
        "id": "mbN8TYs6nZjK"
      },
      "outputs": [],
      "source": [
        "#@markdown 🔳 Paste the text here for analysis: (text)\n",
        "text = input()"
      ]
    },
    {
      "cell_type": "markdown",
      "source": [
        "> 🔲 **Preprocessing of the text**"
      ],
      "metadata": {
        "id": "2NF_c-QUkBab"
      }
    },
    {
      "cell_type": "markdown",
      "source": [
        "Set up for processing: no action required."
      ],
      "metadata": {
        "id": "iiJrLU8I6R2H"
      }
    },
    {
      "cell_type": "code",
      "execution_count": 4,
      "metadata": {
        "id": "ZVy8-On2ioMG",
        "cellView": "form"
      },
      "outputs": [],
      "source": [
        "#@markdown 🔳 Install and import packages\n",
        "%%capture\n",
        "import nltk\n",
        "from nltk.tokenize import word_tokenize, sent_tokenize\n",
        "nltk.download(\"punkt\")\n",
        "\n",
        "!pip install corpus-toolkit\n",
        "\n",
        "#@markdown 🔳 Create a foloder named \"txtdata\" for further processing\n",
        "import os\n",
        "os.mkdir(\"txtdata\")\n",
        "\n",
        "#@markdown 🔳 Write text to a file under 'txtdata' folder\n",
        "\n",
        "with open('txtdata/mytext.txt','w') as f:\n",
        "  f.write(text)\n"
      ]
    },
    {
      "cell_type": "markdown",
      "source": [
        "> 🔲 **Frequency analysis:** your actions required (2 times)"
      ],
      "metadata": {
        "id": "TRh-brZf6ZIy"
      }
    },
    {
      "cell_type": "code",
      "source": [
        "#@markdown 🔳 Tokenize, getting frequency list with tagging information\n",
        "\n",
        "from nltk.tokenize import RegexpTokenizer\n",
        "retokenize =RegexpTokenizer(\"[\\w]+\")\n",
        "words = retokenize.tokenize(text)\n",
        "words\n",
        "print('Before stopwords: %d'%len(words))\n",
        "\n",
        "# Lower case\n",
        "wlist = []\n",
        "for w in words:\n",
        "  w1 = w.lower()\n",
        "  wlist.append(w1)\n",
        "\n",
        "words = wlist\n",
        "#@markdown 🔳 Remove stopwords for frequency distribution analysis:\n",
        "\n",
        "# import stopwords from nltk.corpus\n",
        "\n",
        "from nltk.corpus import stopwords\n",
        "nltk.download(\"stopwords\")\n",
        "\n",
        "words = [w for w in words if not w in stopwords.words('english')]\n",
        "print('After stopwords: %d'%len(words))\n",
        "\n",
        "#@markdown 🔳 POS tagging\n",
        "\n",
        "from corpus_toolkit import corpus_tools as ct\n",
        "\n",
        "brown_corp = ct.ldcorpus(\"txtdata\") #load and read text files under 'txtdata' directory\n",
        "tok_corp = ct.tokenize(brown_corp)  #tokenize corpus - by default this lemmatizes as well\n",
        "brown_freq = ct.frequency(tok_corp) #creates a frequency dictionary\n",
        "\n",
        "ct.write_corpus(\"tagged_txt\",ct.tag(ct.ldcorpus(\"txtdata\")))\n",
        "\n",
        "tagged_freq = ct.frequency(ct.reload(\"tagged_txt\"))\n",
        "# ct.head(tagged_freq, hits = 10)\n",
        "\n",
        "#@markdown 🔳 Result saving as a csv file with POS information\n",
        "\n",
        "import pandas as pd\n",
        "data_dict = tagged_freq\n",
        "data_items = data_dict. items()\n",
        "data_list = list(data_items)\n",
        "df = pd.DataFrame(data_list)\n",
        "\n",
        "df.columns=['Tagged_words','Freq']\n",
        "\n",
        "mycol = list(df['Tagged_words'])\n",
        "\n",
        "# print(df)\n",
        "\n",
        "# Word, POS into dataframe\n",
        "\n",
        "wlist = []\n",
        "cat = []\n",
        "\n",
        "for w in mycol:\n",
        "  w1 = w.split(\"_\")\n",
        "  wlist.append(w1[0])\n",
        "  cat.append(w1[1])\n",
        "\n",
        "df['Word'] = wlist\n",
        "df['POS'] = cat\n",
        "\n",
        "#@markdown 🔳 🚩 Sorting by? Answer [pop up box]\n",
        "\n",
        "print(\"Sorting by Frequency (type '1'), POS & Freq (type '2'), or by Word alphabetically (type '3')\")\n",
        "sorting = input()\n",
        "\n",
        "for t in sorting:\n",
        "  if t == \"1\":\n",
        "    df = df.sort_values(by=['Freq'], ascending = False)\n",
        "  if t == \"2\":\n",
        "    df = df.sort_values(by=['POS', 'Freq'], ascending = False)\n",
        "  if t == \"3\":\n",
        "    df = df.sort_values(by=['Word'], ascending = True)\n",
        "  else:\n",
        "    print(\"Type 1, 2, or 3\")\n",
        "df['Index'] = range(1,len(df['POS'])+1)\n",
        "\n",
        "df = df[[\"Index\", \"POS\", \"Word\",\"Freq\"]]\n",
        "# print df.to_string(index=False)\n",
        "\n",
        "#@markdown 🔳 🚩 Saving file? Answer [pop up box]\n",
        "\n",
        "print('Save it as a file? (y/n)')\n",
        "saving = input()\n",
        "\n",
        "for s in saving:\n",
        "  if s == \"y\":\n",
        "    with open('pos_wordlist.csv','w') as f:\n",
        "      df.to_csv(f)\n",
        "    print('File is saved: pos_wordlist.csv')\n",
        "  if s == \"n\":\n",
        "    print('No file will be saved.')\n",
        "\n",
        "df.head()\n"
      ],
      "metadata": {
        "id": "R9B_7_tyk7w8",
        "cellView": "form"
      },
      "execution_count": null,
      "outputs": []
    },
    {
      "cell_type": "markdown",
      "source": [
        "## **[1] Generating audio file of word reading**  \n",
        "Result file => df"
      ],
      "metadata": {
        "id": "kY-DTsXB54UN"
      }
    },
    {
      "cell_type": "code",
      "source": [
        "#@markdown 🚩 {gTTS} package installation and import\n",
        "%%capture\n",
        "!pip install gTTS\n",
        "from gtts import gTTS\n",
        "from IPython.display import Audio"
      ],
      "metadata": {
        "cellView": "form",
        "id": "JyvQPaYiACjM"
      },
      "execution_count": 6,
      "outputs": []
    },
    {
      "cell_type": "code",
      "source": [
        "#@markdown Word reading by gTTS:\n",
        "\n",
        "#@markdown 🚩 Select word POS: \n",
        "\n",
        "word_POS_select = \"VERB\" #@param = [\"NOUN\",\"VERB\",\"ADJ\",\"ADV\",\"PROPN\",\"ALL\"]\n",
        "\n",
        "wordlist = df[df['POS'] == word_POS_select]\n",
        "wordlist = wordlist.sort_values(by=['Word'], ascending = True)\n",
        "\n",
        "collist = list(wordlist['Word'])\n",
        "\n",
        "print(collist)\n",
        "\n",
        "#@markdown 🚩 Language to choose: (english, korean, french, spanish)\n",
        "def tts(mytext):\n",
        "  text_to_say = mytext\n",
        "\n",
        "# Step ⓵ Language to choose:\n",
        "  language_to_choose = \"en\" #@param [\"en\", \"ko\", \"fr\", 'es']\n",
        "  # lang = language_to_choose\n",
        "  language = language_to_choose\n",
        "  print(\"Play language accent: %s\"%language_to_choose)\n",
        "\n",
        "  gtts_object = gTTS(text = text_to_say,\n",
        "                     lang = language,\n",
        "                    slow = False) \n",
        "  \n",
        "  gtts_object.save(\"mytext.wav\")\n",
        "  return Audio(\"mytext.wav\")\n",
        "\n",
        "text_to_say = '. '.join(collist)\n",
        "intro_text = \"Okay. I'm going to read a wordlist, so repeat after me.\"\n",
        "text_to_say = intro_text + text_to_say\n",
        "tts(text_to_say)\n"
      ],
      "metadata": {
        "cellView": "form",
        "id": "F-DZTfmtmisZ"
      },
      "execution_count": null,
      "outputs": []
    },
    {
      "cell_type": "markdown",
      "source": [
        "##**[2] Rhyming words**\n",
        "\n",
        "**_Note:_** In the following, you'll get rhyming words from CMU dictionary.  \n",
        "* [CMU pronounciation dictionary](http://www.speech.cs.cmu.edu/cgi-bin/cmudict)\n",
        "\n",
        "* [CMU tools](http://www.speech.cs.cmu.edu/tools/lextool.html)\n"
      ],
      "metadata": {
        "id": "T1Opo8LhEqqr"
      }
    },
    {
      "cell_type": "markdown",
      "source": [
        "😊 Let's first set up target words for today."
      ],
      "metadata": {
        "id": "pFYEIwVxFurd"
      }
    },
    {
      "cell_type": "code",
      "source": [
        "#@markdown **Step 1:** Install {pronouncing}\n",
        "%%capture\n",
        "!pip install pronouncing\n",
        "\n",
        "import pronouncing"
      ],
      "metadata": {
        "id": "5K7TgrhJHN5f"
      },
      "execution_count": 10,
      "outputs": []
    },
    {
      "cell_type": "markdown",
      "source": [
        "\\[Description]: \n",
        "\n",
        "* For a target word (your choice), we'll find rhyming words with same number of syllables. _e.g., 'grow' (1 syllable) => The result will show one-syllabled word list (randomly chosen from cmu dictionary)_\n",
        "\n",
        "* We'll then create an audio file reading the rhyming wordlist."
      ],
      "metadata": {
        "id": "eybYyZyAkRu0"
      }
    },
    {
      "cell_type": "code",
      "source": [
        "#@markdown **Step 2:** \t🚩 Find rhyming words with ____:\n",
        "\n",
        "print(\"Write a word to search rhyming words:\")\n",
        "rhyme_with = input()\n",
        "word = rhyme_with\n",
        "\n",
        "phones = pronouncing.phones_for_word(word)\n",
        "syll_count = pronouncing.syllable_count(phones[0])\n",
        "\n",
        "print(\"Okay, I'm searching for rhyming words with %s.\"%word)\n",
        "\n",
        "result = pronouncing.rhymes(word)\n",
        "\n",
        "print('How many rhyming words to search? (1~20')\n",
        "n_words = input()\n",
        "n_words = int(n_words)\n",
        "\n",
        "# Among the result, select words with same syllable count\n",
        "\n",
        "wlist = []\n",
        "throw = []\n",
        "\n",
        "def syllcount(x):\n",
        "  phones = pronouncing.phones_for_word(x)\n",
        "  n = pronouncing.syllable_count(phones[0])\n",
        "  return n\n",
        "\n",
        "for w in result:\n",
        "  if syllcount(w) == syll_count:\n",
        "    wlist.append(w)\n",
        "  else:\n",
        "    throw.append(w)\n",
        "\n",
        "# random sample\n",
        "import random\n",
        "from random import shuffle\n",
        "\n",
        "b = random.sample(wlist, n_words)\n",
        "\n",
        "temp = b[:n_words]\n",
        "\n",
        "wlist = '. '.join(temp)\n",
        "intro = \"These words rhyme with \" + str(rhyme_with) + \". \" + \"Are you ready to listen?\"\n",
        "\n",
        "wlist = intro + wlist\n",
        "print(\"Rhyming words: %s\"%wlist)\n",
        "\n",
        "#@markdown tts() function should be defined above [1]:\n",
        "tts(wlist)\n"
      ],
      "metadata": {
        "cellView": "form",
        "id": "Jc46xItsjYPp"
      },
      "execution_count": null,
      "outputs": []
    },
    {
      "cell_type": "markdown",
      "source": [
        "##**[3] Larning English vowels with rhyming words**"
      ],
      "metadata": {
        "id": "Os9nUHeEOK7g"
      }
    },
    {
      "cell_type": "markdown",
      "source": [
        "### English vowels: 14 vowels\n",
        "\n",
        "![](https://github.com/MK316/workshop22/raw/main/img/englishvowels1.png)"
      ],
      "metadata": {
        "id": "R2PZKG9blvIc"
      }
    },
    {
      "cell_type": "code",
      "source": [
        "#@markdown **Step 1:** Install {pronouncing}\n",
        "%%capture\n",
        "!pip install pronouncing\n",
        "!pip install gTTS\n",
        "\n",
        "from gtts import gTTS\n",
        "from IPython.display import Audio\n",
        "import pronouncing"
      ],
      "metadata": {
        "id": "xGu6WpNxmlIE"
      },
      "execution_count": 12,
      "outputs": []
    },
    {
      "cell_type": "code",
      "source": [
        "#@markdown **Step2:** 🚩 Vowels to learn:\n",
        "\n",
        "Target_vowel_as_in = \"Ben\" #@param [\"bean\",\"bin\",\"Ben\",\"ban\",\"mood\",\"would\",\"bought\",\"nod\", \"mud\", \"go\",\"how\",\"bay\",\"bye\",\"boy\"]\n",
        "\n",
        "word = Target_vowel_as_in\n",
        "\n",
        "# phones = pronouncing.phones_for_word(word)\n",
        "# syll_count = pronouncing.syllable_count(phones[0])\n",
        "\n",
        "result = pronouncing.rhymes(word)\n",
        "\n",
        "# syllable number counting as function\n",
        "def syllcount(x):\n",
        "  phones = pronouncing.phones_for_word(x)\n",
        "  n = pronouncing.syllable_count(phones[0])\n",
        "  return n\n",
        "\n",
        "wlist = []\n",
        "\n",
        "for w in result:\n",
        "  if (syllcount(w) == 1 or 2) and (len(w) > 1):\n",
        "    wlist.append(w)\n",
        "  else:\n",
        "    throw.append(w)\n",
        "\n",
        "print(\"Rhyming words: %d\"%len(wlist))\n",
        "\n",
        "How_many_words_to_show = \"10\" #@param = [\"5\",\"10\",\"15\",\"20\",\"30\"]\n",
        "n_words = int(How_many_words_to_show)\n",
        "# random sample\n",
        "import random\n",
        "from random import shuffle\n",
        "\n",
        "b = random.sample(wlist, n_words)\n",
        "\n",
        "temp = b[:n_words]\n",
        "\n",
        "# wordlist as dataframe to display\n",
        "import pandas as pd\n",
        "dft = pd.DataFrame()\n",
        "dft['Words'] = temp\n",
        "\n",
        "wlist = '. '.join(temp)\n",
        "intro = \"These are randomly chosen \" + str(n_words) + \" words that rhyme with \" + str(word) + \". \" + \"Are you ready to listen? \"\n",
        "\n",
        "wlist = intro + wlist\n",
        "print(\"Rhyming words: \\n %s\"%wlist)\n",
        "print(\"*** Target vowel in '%s'\"%word)\n",
        "print(dft)\n",
        "#@markdown tts() function should be defined above [1]:\n",
        "tts(wlist)\n"
      ],
      "metadata": {
        "cellView": "form",
        "id": "SemVkl3rpSnv"
      },
      "execution_count": null,
      "outputs": []
    },
    {
      "cell_type": "markdown",
      "source": [
        "## [4] Phonics for adult learners: Letter-Sound correspondences"
      ],
      "metadata": {
        "id": "M2yH-LSjkKkd"
      }
    }
  ]
}