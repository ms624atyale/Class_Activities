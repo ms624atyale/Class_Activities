{
  "nbformat": 4,
  "nbformat_minor": 0,
  "metadata": {
    "colab": {
      "name": "Untitled6.ipynb",
      "provenance": [],
      "toc_visible": true,
      "authorship_tag": "ABX9TyNJq+zNMZUsm/9SYekdJDC1",
      "include_colab_link": true
    },
    "kernelspec": {
      "name": "python3",
      "display_name": "Python 3"
    },
    "language_info": {
      "name": "python"
    }
  },
  "cells": [
    {
      "cell_type": "markdown",
      "metadata": {
        "id": "view-in-github",
        "colab_type": "text"
      },
      "source": [
        "<a href=\"https://colab.research.google.com/github/ms624atyale/Class_Activities/blob/main/WordToken_CodeLines.ipynb\" target=\"_parent\"><img src=\"https://colab.research.google.com/assets/colab-badge.svg\" alt=\"Open In Colab\"/></a>"
      ]
    },
    {
      "cell_type": "code",
      "execution_count": 1,
      "metadata": {
        "id": "Onp-BBvsDWmZ"
      },
      "outputs": [],
      "source": [
        "import re"
      ]
    },
    {
      "cell_type": "code",
      "source": [
        "pip install lexical-diversity"
      ],
      "metadata": {
        "colab": {
          "base_uri": "https://localhost:8080/"
        },
        "id": "iCLMSydkDZf0",
        "outputId": "83f89134-93b1-435c-c53c-d9d11879b265"
      },
      "execution_count": 2,
      "outputs": [
        {
          "output_type": "stream",
          "name": "stdout",
          "text": [
            "Collecting lexical-diversity\n",
            "  Downloading lexical_diversity-0.1.1-py3-none-any.whl (117 kB)\n",
            "\u001b[K     |████████████████████████████████| 117 kB 5.4 MB/s \n",
            "\u001b[?25hInstalling collected packages: lexical-diversity\n",
            "Successfully installed lexical-diversity-0.1.1\n"
          ]
        }
      ]
    },
    {
      "cell_type": "code",
      "source": [
        "from lexical_diversity import lex_div as ld"
      ],
      "metadata": {
        "id": "Kgc0G_mEDbms"
      },
      "execution_count": 3,
      "outputs": []
    },
    {
      "cell_type": "code",
      "source": [
        "txt=\"\"\"The Solomon R. Guggenheim Museum, often referred to as The Guggenheim, is an art museum at 1071 Fifth Avenue on the corner of East 89th Street on the Upper East Side of Manhattan in New York City. It is the permanent home of a continuously expanding collection of Impressionist, Post-Impressionist, early Modern, and contemporary art and also features special exhibitions throughout the year. The museum was established by the Solomon R. Guggenheim Foundation in 1939 as the Museum of Non_Objective Painting, under the guidance of its first director, Hilla von Rebay. It adopted its current name in 1952, three years after the death of its founder Solomon R. Guggenheim. In 1959, the museum moved from rented space to its current building, a landmark work of 20th-century architecture designed by Frank Lloyd Wright. The cylindrical building, wider at the top than at the bottom, was conceived as a \"temple of the spirit\". Its unique ramp gallery extends up from ground level in a long, continuous spiral along the outer edges of the building to end just under the ceiling skylight. The building underwent extensive expansion and renovations in 1992 when an adjoining tower was built, and from 2005 to 2008.The museum's collection has grown over eight decades and is founded upon several important private collections, beginning with that of Solomon R. Guggenheim. The collection is shared with sister museums in Bilbao, Spain and elsewhere. In 2013, nearly 1.2 million people visited the museum, and it hosted the most popular exhibition in New York City.\"\"\"\n"
      ],
      "metadata": {
        "id": "vopiF638DeHW"
      },
      "execution_count": 4,
      "outputs": []
    },
    {
      "cell_type": "code",
      "source": [
        "shortword = re.compile(r'\\W*\\b\\w{1,3}\\b')"
      ],
      "metadata": {
        "id": "SDFSXGiFDhAe"
      },
      "execution_count": 5,
      "outputs": []
    },
    {
      "cell_type": "code",
      "source": [
        "voca = shortword.sub('',txt)"
      ],
      "metadata": {
        "id": "zASGZF4ZDjiR"
      },
      "execution_count": 6,
      "outputs": []
    },
    {
      "cell_type": "code",
      "source": [
        "tok = ld.tokenize(voca)"
      ],
      "metadata": {
        "id": "m6f7GP1jDmCH"
      },
      "execution_count": 7,
      "outputs": []
    },
    {
      "cell_type": "code",
      "source": [
        "print(tok)\n"
      ],
      "metadata": {
        "colab": {
          "base_uri": "https://localhost:8080/"
        },
        "id": "ECpR5xWfDwfM",
        "outputId": "e4224b2e-007c-4026-e317-3f6d1a44c486"
      },
      "execution_count": 8,
      "outputs": [
        {
          "output_type": "stream",
          "name": "stdout",
          "text": [
            "['', 'solomon', 'guggenheim', 'museum', 'often', 'referred', 'guggenheim', 'museum', '1071', 'fifth', 'avenue', 'corner', 'east', '89th', 'street', 'upper', 'east', 'side', 'manhattan', 'york', 'city', 'permanent', 'home', 'continuously', 'expanding', 'collection', 'impressionist', 'postimpressionist', 'early', 'modern', 'contemporary', 'also', 'features', 'special', 'exhibitions', 'throughout', 'year', 'museum', 'established', 'solomon', 'guggenheim', 'foundation', '1939', 'museum', 'nonobjective', 'painting', 'under', 'guidance', 'first', 'director', 'hilla', 'rebay', 'adopted', 'current', 'name', '1952', 'three', 'years', 'after', 'death', 'founder', 'solomon', 'guggenheim', '1959', 'museum', 'moved', 'from', 'rented', 'space', 'current', 'building', 'landmark', 'work', '20thcentury', 'architecture', 'designed', 'frank', 'lloyd', 'wright', 'cylindrical', 'building', 'wider', 'than', 'bottom', 'conceived', '\"temple', 'spirit', 'unique', 'ramp', 'gallery', 'extends', 'from', 'ground', 'level', 'long', 'continuous', 'spiral', 'along', 'outer', 'edges', 'building', 'just', 'under', 'ceiling', 'skylight', 'building', 'underwent', 'extensive', 'expansion', 'renovations', '1992', 'when', 'adjoining', 'tower', 'built', 'from', '2005', '2008', 'museum', 'collection', 'grown', 'over', 'eight', 'decades', 'founded', 'upon', 'several', 'important', 'private', 'collections', 'beginning', 'with', 'that', 'solomon', 'guggenheim', 'collection', 'shared', 'with', 'sister', 'museums', 'bilbao', 'spain', 'elsewhere', '2013', 'nearly', 'million', 'people', 'visited', 'museum', 'hosted', 'most', 'popular', 'exhibition', 'york', 'city']\n"
          ]
        }
      ]
    }
  ]
}